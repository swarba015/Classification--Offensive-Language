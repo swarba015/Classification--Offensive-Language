{
 "cells": [
  {
   "cell_type": "code",
   "execution_count": 6,
   "metadata": {},
   "outputs": [],
   "source": [
    "import numpy as np\n",
    "import pandas as pd\n",
    "import regex as re\n",
    "from collections import defaultdict,Counter\n",
    "from scipy.sparse import csr_matrix\n",
    "from imblearn.over_sampling import SMOTE\n",
    "from imblearn.under_sampling import RandomUnderSampler\n",
    "import matplotlib.pyplot as plt\n",
    "import torch\n",
    "import torch.nn as nn\n",
    "import torch.optim as optim\n",
    "import seaborn as sns\n",
    "\n"
   ]
  },
  {
   "cell_type": "code",
   "execution_count": 7,
   "metadata": {},
   "outputs": [
    {
     "data": {
      "text/html": [
       "<div>\n",
       "<style scoped>\n",
       "    .dataframe tbody tr th:only-of-type {\n",
       "        vertical-align: middle;\n",
       "    }\n",
       "\n",
       "    .dataframe tbody tr th {\n",
       "        vertical-align: top;\n",
       "    }\n",
       "\n",
       "    .dataframe thead th {\n",
       "        text-align: right;\n",
       "    }\n",
       "</style>\n",
       "<table border=\"1\" class=\"dataframe\">\n",
       "  <thead>\n",
       "    <tr style=\"text-align: right;\">\n",
       "      <th></th>\n",
       "      <th>text</th>\n",
       "      <th>par_id</th>\n",
       "      <th>label</th>\n",
       "    </tr>\n",
       "  </thead>\n",
       "  <tbody>\n",
       "    <tr>\n",
       "      <th>0</th>\n",
       "      <td>We 're living in times of absolute insanity , ...</td>\n",
       "      <td>1</td>\n",
       "      <td>0</td>\n",
       "    </tr>\n",
       "    <tr>\n",
       "      <th>1</th>\n",
       "      <td>In Libya today , there are countless number of...</td>\n",
       "      <td>2</td>\n",
       "      <td>0</td>\n",
       "    </tr>\n",
       "    <tr>\n",
       "      <th>2</th>\n",
       "      <td>White House press secretary Sean Spicer said t...</td>\n",
       "      <td>3</td>\n",
       "      <td>0</td>\n",
       "    </tr>\n",
       "    <tr>\n",
       "      <th>3</th>\n",
       "      <td>Council customers only signs would be displaye...</td>\n",
       "      <td>4</td>\n",
       "      <td>0</td>\n",
       "    </tr>\n",
       "    <tr>\n",
       "      <th>4</th>\n",
       "      <td>\" Just like we received migrants fleeing El Sa...</td>\n",
       "      <td>5</td>\n",
       "      <td>0</td>\n",
       "    </tr>\n",
       "  </tbody>\n",
       "</table>\n",
       "</div>"
      ],
      "text/plain": [
       "                                                text  par_id  label\n",
       "0  We 're living in times of absolute insanity , ...       1      0\n",
       "1  In Libya today , there are countless number of...       2      0\n",
       "2  White House press secretary Sean Spicer said t...       3      0\n",
       "3  Council customers only signs would be displaye...       4      0\n",
       "4  \" Just like we received migrants fleeing El Sa...       5      0"
      ]
     },
     "execution_count": 7,
     "metadata": {},
     "output_type": "execute_result"
    }
   ],
   "source": [
    "train_df = pd.read_csv(r\"C:\\Users\\nuzha\\Downloads\\SI 630\\hw1\\train (1).csv\")\n",
    "test_df = pd.read_csv(r\"C:\\Users\\nuzha\\Downloads\\SI 630\\hw1\\dev.csv\")  \n",
    "test_df['text'] = test_df['text'].fillna(\"\")\n",
    "\n",
    "train_df.head()"
   ]
  },
  {
   "cell_type": "code",
   "execution_count": 8,
   "metadata": {},
   "outputs": [],
   "source": [
    "def generate_ngrams(tokens, n):\n",
    "    \"\"\"Generate n-grams from a list of tokens.\"\"\"\n",
    "    return [' '.join(tokens[i:i+n]) for i in range(len(tokens)-n+1)]"
   ]
  },
  {
   "cell_type": "markdown",
   "metadata": {},
   "source": [
    "## 1"
   ]
  },
  {
   "cell_type": "code",
   "execution_count": 9,
   "metadata": {},
   "outputs": [],
   "source": [
    "def tokenize(text):\n",
    "    \"\"\"Tokenize text.\"\"\"\n",
    "    return text.strip().split() "
   ]
  },
  {
   "cell_type": "markdown",
   "metadata": {},
   "source": [
    "## 2"
   ]
  },
  {
   "cell_type": "code",
   "execution_count": 10,
   "metadata": {},
   "outputs": [],
   "source": [
    "\n",
    "def better_tokenize(text):\n",
    "    \"\"\"Tokenizes text into unigrams, bigrams, and trigrams.\"\"\"\n",
    "    if isinstance(text, str):\n",
    "        stop_words = {'i', 'me', 'my', 'myself', 'we', 'our', 'ours', \n",
    "                      'ourselves', 'you', \"you're\", \"you've\", \"you'll\", \"you'd\", 'your', \n",
    "                      'yours', 'yourself', 'yourselves', 'he', 'him', 'his', 'himself', 'she', \n",
    "                      \"she's\", 'her', 'hers', 'herself', 'it', \"it's\", 'its', 'itself', 'they', \n",
    "                      'them', 'their', 'theirs', 'themselves', 'what', 'which', 'who', 'whom', \n",
    "                      'this', 'that', \"that'll\", 'these', 'those', 'am', 'is', 'are', 'was', 'were', \n",
    "                      'be', 'been', 'being', 'have', 'has', 'had', 'having', 'do', 'does', 'did', \n",
    "                      'doing', 'a', 'an', 'the', 'and', 'but', 'if', 'or', 'because', 'as', 'until', \n",
    "                      'while', 'of', 'at', 'by', 'for', 'with', 'about', 'against', 'between', 'into', \n",
    "                      'through', 'during', 'before', 'after', 'above', 'below', 'to', 'from', 'up', \n",
    "                      'down', 'in', 'out', 'on', 'off', 'over', 'under', 'again', 'further', 'then', \n",
    "                      'once', 'here', 'there', 'when', 'where', 'why', 'how', 'all', 'any', 'both', \n",
    "                      'each', 'few', 'more', 'most', 'other', 'some', 'such', 'no', 'nor', 'not', \n",
    "                      'only', 'own', 'same', 'so', 'than', 'too', 'very', 's', 't', 'can', 'will', \n",
    "                      'just', 'don', \"don't\", 'should', \"should've\", 'now', 'd', 'll', 'm', 'o', \n",
    "                      're', 've', 'y', 'ain', 'aren', \"aren't\", 'couldn', \"couldn't\", 'didn', \n",
    "                      \"didn't\", 'doesn', \"doesn't\", 'hadn', \"hadn't\", 'hasn', \"hasn't\", 'haven', \n",
    "                      \"haven't\", 'isn', \"isn't\", 'ma', 'mightn', \"mightn't\", 'mustn', \"mustn't\", \n",
    "                      'needn', \"needn't\", 'shan', \"shan't\", 'shouldn', \"shouldn't\", 'wasn', \n",
    "                      \"wasn't\", 'weren', \"weren't\", 'won', \"won't\", 'wouldn', \"wouldn't\"}\n",
    "\n",
    "        text = text.lower()\n",
    "        text = re.sub(r\"[^a-zA-Z0-9\\s']\", \"\", text)  # Remove punctuation\n",
    "        text = re.sub(r\"\\s+\", \" \", text)  # Normalize spaces\n",
    "        tokens = text.strip().split()\n",
    "        tokens = [word for word in tokens if word not in stop_words]  # Remove stop words\n",
    "\n",
    "        bigrams = generate_ngrams(tokens, 2)\n",
    "        trigrams = generate_ngrams(tokens, 3)\n",
    "        \n",
    "        return tokens + bigrams + trigrams  # Return unigrams, bigrams, and trigrams\n",
    "    return []\n",
    "\n",
    "\n",
    "train_df['tokenized'] = train_df['text'].apply(better_tokenize)\n",
    "test_df['tokenized'] = test_df['text'].apply(better_tokenize)"
   ]
  },
  {
   "cell_type": "markdown",
   "metadata": {},
   "source": [
    "The better_tokenize function is the updated version for question 2. It makes text lowercase and removes punctuation and extra spaces. It filters out common stop words. It also creates unigrams, bigrams, and trigrams to capture word patterns. These changes make the tokenization cleaner and more useful for analysis."
   ]
  },
  {
   "cell_type": "code",
   "execution_count": 11,
   "metadata": {},
   "outputs": [],
   "source": [
    "def vocabulary(data, min_freq=2):\n",
    "    \"\"\"Creates vocabulary with words occurring at least min_freq times.\"\"\"\n",
    "    word_counts = defaultdict(int)\n",
    "    for text in data:\n",
    "        for word in set(text):  \n",
    "            word_counts[word] += 1\n",
    "            \n",
    "    vocab = {}\n",
    "    current_idx = 0\n",
    "    for word, count in word_counts.items():\n",
    "        if count >= min_freq:\n",
    "            vocab[word] = current_idx\n",
    "            current_idx += 1\n",
    "    \n",
    "    return vocab\n",
    "\n",
    "vocab = vocabulary(train_df['tokenized'], min_freq=2)  "
   ]
  },
  {
   "cell_type": "markdown",
   "metadata": {},
   "source": [
    "## 3"
   ]
  },
  {
   "cell_type": "code",
   "execution_count": 18,
   "metadata": {},
   "outputs": [],
   "source": [
    "def create_sparse_matrix(doc, vocab):\n",
    "\n",
    "    rows, cols, data = [], [], []\n",
    "    max_vocab_size = len(vocab)  \n",
    "\n",
    "    for i, tokens in enumerate(doc):\n",
    "        word_freq = Counter(tokens)\n",
    "        for word, freq in word_freq.items():\n",
    "            if word in vocab: \n",
    "                col_index = vocab[word] \n",
    "\n",
    "                if col_index < max_vocab_size:  # Prevent out-of-bounds errors\n",
    "                    rows.append(i)\n",
    "                    cols.append(col_index)\n",
    "                    data.append(freq)\n",
    "\n",
    "    return csr_matrix((data, (rows, cols)), shape=(len(doc), max_vocab_size))\n",
    "\n",
    "\n",
    "# Convert Data to Matrices\n",
    "X_train = create_sparse_matrix(train_df['tokenized'], vocab)\n",
    "y_train = train_df['label'].values\n",
    "X_test = create_sparse_matrix(test_df['tokenized'], vocab)\n",
    "y_test = test_df['label'].values\n",
    "\n"
   ]
  },
  {
   "cell_type": "code",
   "execution_count": 23,
   "metadata": {},
   "outputs": [],
   "source": []
  },
  {
   "cell_type": "code",
   "execution_count": null,
   "metadata": {},
   "outputs": [],
   "source": []
  },
  {
   "cell_type": "markdown",
   "metadata": {},
   "source": [
    "## 4"
   ]
  },
  {
   "cell_type": "code",
   "execution_count": 19,
   "metadata": {},
   "outputs": [],
   "source": [
    "def sigmoid_function(z):\n",
    "    return 1 / (1 + np.exp(-z))"
   ]
  },
  {
   "cell_type": "markdown",
   "metadata": {},
   "source": [
    "## 5"
   ]
  },
  {
   "cell_type": "code",
   "execution_count": 20,
   "metadata": {},
   "outputs": [],
   "source": [
    "def log_likelihood(features, target, weights):\n",
    "    scores = np.dot(features, weights)\n",
    "    ll = np.sum(target * scores - np.log(1 + np.exp(scores)))\n",
    "    return ll"
   ]
  },
  {
   "cell_type": "markdown",
   "metadata": {},
   "source": [
    "# 6"
   ]
  },
  {
   "cell_type": "code",
   "execution_count": 21,
   "metadata": {},
   "outputs": [],
   "source": [
    "def compute_gradient(X_i, y_i, beta):\n",
    "\n",
    "    y_hat = sigmoid_function(np.dot(X_i, beta))  \n",
    "    gradient = (y_hat - y_i) * X_i  \n",
    "    return gradient\n",
    "\n",
    "def logistic_regression(X, y, learning_rate=0.01, num_steps=1000):\n",
    "\n",
    "    if isinstance(X, csr_matrix): # Convert sparse matrix to dense array\n",
    "        X = X.toarray() \n",
    "    y = y.reshape(-1, 1) # Reshape to column vector\n",
    "    X = np.hstack([np.ones((X.shape[0], 1)), X]) \n",
    "\n",
    "    num_features = X.shape[1]\n",
    "    beta = np.zeros(num_features)  \n",
    "    log_likelihoods = []\n",
    "\n",
    "    for step in range(num_steps):\n",
    "        i = np.random.randint(0, X.shape[0])  \n",
    "        X_i = X[i]  \n",
    "        y_i = y[i]  \n",
    "\n",
    "        \n",
    "        gradient = compute_gradient(X_i, y_i, beta)\n",
    "        beta -= learning_rate * gradient  \n",
    "\n",
    "        if step % 20 == 0:\n",
    "            ll = log_likelihood(X, y, beta)\n",
    "            log_likelihoods.append(ll)\n",
    "            print(f\"Step {step}/{num_steps}, Log-Likelihood: {ll:.4f}\")\n",
    "\n",
    "    return beta, log_likelihoods\n"
   ]
  },
  {
   "cell_type": "markdown",
   "metadata": {},
   "source": [
    "## 7"
   ]
  },
  {
   "cell_type": "code",
   "execution_count": 22,
   "metadata": {},
   "outputs": [],
   "source": [
    "def predict(X, beta, threshold=0.2):\n",
    "\n",
    "    probabilities = sigmoid_function(X.dot(beta))\n",
    "    return (probabilities >= threshold).astype(int)"
   ]
  },
  {
   "cell_type": "markdown",
   "metadata": {},
   "source": [
    "## 8"
   ]
  },
  {
   "cell_type": "code",
   "execution_count": 23,
   "metadata": {},
   "outputs": [
    {
     "name": "stdout",
     "output_type": "stream",
     "text": [
      "Step 0/1000, Log-Likelihood: -37222769.1838\n",
      "Step 20/1000, Log-Likelihood: -37210576.9902\n",
      "Step 40/1000, Log-Likelihood: -37197489.3930\n",
      "Step 60/1000, Log-Likelihood: -37183661.4378\n",
      "Step 80/1000, Log-Likelihood: -37168498.6506\n",
      "Step 100/1000, Log-Likelihood: -37152923.0982\n",
      "Step 120/1000, Log-Likelihood: -37139975.6618\n",
      "Step 140/1000, Log-Likelihood: -37123791.3382\n",
      "Step 160/1000, Log-Likelihood: -37111681.0147\n",
      "Step 180/1000, Log-Likelihood: -37093100.6737\n",
      "Step 200/1000, Log-Likelihood: -37081534.1270\n",
      "Step 220/1000, Log-Likelihood: -37068010.3584\n",
      "Step 240/1000, Log-Likelihood: -37056817.8094\n",
      "Step 260/1000, Log-Likelihood: -37044591.0246\n",
      "Step 280/1000, Log-Likelihood: -37025675.7149\n",
      "Step 300/1000, Log-Likelihood: -37014131.1151\n",
      "Step 320/1000, Log-Likelihood: -36997411.5150\n",
      "Step 340/1000, Log-Likelihood: -36983264.1958\n",
      "Step 360/1000, Log-Likelihood: -36972903.2776\n",
      "Step 380/1000, Log-Likelihood: -36962690.8607\n",
      "Step 400/1000, Log-Likelihood: -36952886.2106\n",
      "Step 420/1000, Log-Likelihood: -36934844.7504\n",
      "Step 440/1000, Log-Likelihood: -36926338.0119\n",
      "Step 460/1000, Log-Likelihood: -36911355.5021\n",
      "Step 480/1000, Log-Likelihood: -36894432.9460\n",
      "Step 500/1000, Log-Likelihood: -36879564.1472\n",
      "Step 520/1000, Log-Likelihood: -36863495.2428\n",
      "Step 540/1000, Log-Likelihood: -36851001.3536\n",
      "Step 560/1000, Log-Likelihood: -36835239.9446\n",
      "Step 580/1000, Log-Likelihood: -36824219.4518\n",
      "Step 600/1000, Log-Likelihood: -36809555.2767\n",
      "Step 620/1000, Log-Likelihood: -36794552.0695\n",
      "Step 640/1000, Log-Likelihood: -36782288.1282\n",
      "Step 660/1000, Log-Likelihood: -36765423.1930\n",
      "Step 680/1000, Log-Likelihood: -36754020.5531\n",
      "Step 700/1000, Log-Likelihood: -36741778.8614\n",
      "Step 720/1000, Log-Likelihood: -36728436.4937\n",
      "Step 740/1000, Log-Likelihood: -36712144.7255\n",
      "Step 760/1000, Log-Likelihood: -36698974.0460\n",
      "Step 780/1000, Log-Likelihood: -36685033.5960\n",
      "Step 800/1000, Log-Likelihood: -36669099.4790\n",
      "Step 820/1000, Log-Likelihood: -36658686.5621\n",
      "Step 840/1000, Log-Likelihood: -36646345.1356\n",
      "Step 860/1000, Log-Likelihood: -36635305.7871\n",
      "Step 880/1000, Log-Likelihood: -36628000.2370\n",
      "Step 900/1000, Log-Likelihood: -36610852.6747\n",
      "Step 920/1000, Log-Likelihood: -36596057.9078\n",
      "Step 940/1000, Log-Likelihood: -36582977.0753\n",
      "Step 960/1000, Log-Likelihood: -36568545.5981\n",
      "Step 980/1000, Log-Likelihood: -36555432.1069\n"
     ]
    },
    {
     "data": {
      "image/png": "[encoded data removed]",
      "text/plain": [
       "<Figure size 800x500 with 1 Axes>"
      ]
     },
     "metadata": {},
     "output_type": "display_data"
    }
   ],
   "source": [
    "learning_rate = 5e-5\n",
    "num_steps = 1000\n",
    "\n",
    "\n",
    "beta, log_likelihoods = logistic_regression(X_train, y_train, learning_rate=learning_rate, num_steps=num_steps)\n",
    "\n",
    "# Plot Log-Likelihood over Steps\n",
    "x_values = list(range(0, num_steps, 20))\n",
    "\n",
    "plt.figure(figsize=(8, 5))\n",
    "plt.plot(x_values, log_likelihoods, marker='o', linestyle='-')\n",
    "plt.xlabel(\"Training Steps\")\n",
    "plt.ylabel(\"Log-Likelihood\")\n",
    "plt.title(\"Log-Likelihood over Training Steps\")\n",
    "plt.grid(True)\n",
    "plt.show()"
   ]
  },
  {
   "cell_type": "markdown",
   "metadata": {},
   "source": [
    "From the graph, the log-likelihood seems to steadily increase without dramatic fluctuations. The convergence happens when the log-likelihood values remain stable (change rate approaches zero). So, it is not convering"
   ]
  },
  {
   "cell_type": "markdown",
   "metadata": {},
   "source": [
    "## 9"
   ]
  },
  {
   "cell_type": "code",
   "execution_count": 36,
   "metadata": {},
   "outputs": [],
   "source": [
    "def logistic_regression_improvised(X, y, X_val, y_val, learning_rate=0.01, steps=8000, reg_lambda=0.001):\n",
    "\n",
    "    y = y.reshape(-1, 1)  \n",
    "\n",
    "    if isinstance(X, csr_matrix):  \n",
    "        X = X.toarray()\n",
    "    if isinstance(X_val, csr_matrix):  \n",
    "        X_val = X_val.toarray()\n",
    "\n",
    "    X = np.hstack([np.ones((X.shape[0], 1)), X])  \n",
    "    X_val = np.hstack([np.ones((X_val.shape[0], 1)), X_val])  \n",
    "\n",
    "    num_features = X.shape[1]\n",
    "    beta = np.zeros(num_features)  \n",
    "    log_likelihoods = []\n",
    "\n",
    "    for step in range(steps):\n",
    "        i = np.random.randint(0, X.shape[0])  \n",
    "        X_i = X[i]\n",
    "        y_i = y[i]\n",
    "\n",
    "        predictions = sigmoid_function(np.dot(X_i, beta))\n",
    "\n",
    "        grad = (predictions - y_i) * X_i + reg_lambda * beta\n",
    "\n",
    "        grad[0] -= reg_lambda * beta[0] # to not regularize bias term\n",
    "\n",
    "        beta -= learning_rate * grad  \n",
    "\n",
    "        if step % 100 == 0:\n",
    "            ll = log_likelihood(X, y, beta) - (reg_lambda / 2) * np.sum(beta ** 2)  # L2 penalty\n",
    "            log_likelihoods.append(ll)\n",
    "            print(f\"Step {step}/{steps}, Log-Likelihood: {ll:.4f}\")\n",
    "\n",
    "    y_val_pred = predict(X_val, beta)\n",
    "\n",
    "    TP = np.sum((y_val == 1) & (y_val_pred == 1))\n",
    "    TN = np.sum((y_val == 0) & (y_val_pred == 0))\n",
    "    FP = np.sum((y_val == 0) & (y_val_pred == 1))\n",
    "    FN = np.sum((y_val == 1) & (y_val_pred == 0))\n",
    "\n",
    "    accuracy = (TP + TN) / (TP + TN + FP + FN)\n",
    "    precision = TP / (TP + FP) if (TP + FP) > 0 else 0\n",
    "    recall = TP / (TP + FN) if (TP + FN) > 0 else 0\n",
    "    f1 = 2 * (precision * recall) / (precision + recall) if (precision + recall) > 0 else 0\n",
    "\n",
    "    metrics = {\n",
    "        \"Accuracy\": accuracy,\n",
    "        \"Precision\": precision,\n",
    "        \"Recall\": recall,\n",
    "        \"F1 Score\": f1,\n",
    "    }\n",
    "\n",
    "    print(f\"\\nFinal Validation Metrics:\")\n",
    "    for metric, value in metrics.items():\n",
    "        print(f\"{metric}: {value:.4f}\")\n",
    "\n",
    "    return beta, log_likelihoods, metrics\n",
    "\n",
    "\n"
   ]
  },
  {
   "cell_type": "code",
   "execution_count": 39,
   "metadata": {},
   "outputs": [
    {
     "name": "stdout",
     "output_type": "stream",
     "text": [
      "Step 0/8000, Log-Likelihood: -37081275.1614\n",
      "Step 100/8000, Log-Likelihood: -28112105.2858\n",
      "Step 200/8000, Log-Likelihood: -23366393.2838\n",
      "Step 300/8000, Log-Likelihood: -21063121.7601\n",
      "Step 400/8000, Log-Likelihood: -20177622.5691\n",
      "Step 500/8000, Log-Likelihood: -19465279.9376\n",
      "Step 600/8000, Log-Likelihood: -18705312.6826\n",
      "Step 700/8000, Log-Likelihood: -18432149.0941\n",
      "Step 800/8000, Log-Likelihood: -18219794.3644\n",
      "Step 900/8000, Log-Likelihood: -18213825.1862\n",
      "Step 1000/8000, Log-Likelihood: -17953132.7626\n",
      "Step 1100/8000, Log-Likelihood: -17856632.0923\n",
      "Step 1200/8000, Log-Likelihood: -17744874.3528\n",
      "Step 1300/8000, Log-Likelihood: -17680595.6289\n",
      "Step 1400/8000, Log-Likelihood: -17526352.8936\n",
      "Step 1500/8000, Log-Likelihood: -17482056.9113\n",
      "Step 1600/8000, Log-Likelihood: -17559199.7672\n",
      "Step 1700/8000, Log-Likelihood: -17480735.7723\n",
      "Step 1800/8000, Log-Likelihood: -17573767.1864\n",
      "Step 1900/8000, Log-Likelihood: -17575087.4338\n",
      "Step 2000/8000, Log-Likelihood: -17489431.0158\n",
      "Step 2100/8000, Log-Likelihood: -17523998.1047\n",
      "Step 2200/8000, Log-Likelihood: -17599464.9557\n",
      "Step 2300/8000, Log-Likelihood: -17587401.5429\n",
      "Step 2400/8000, Log-Likelihood: -17608238.7164\n",
      "Step 2500/8000, Log-Likelihood: -17501121.7166\n",
      "Step 2600/8000, Log-Likelihood: -17555970.1261\n",
      "Step 2700/8000, Log-Likelihood: -17492466.3813\n",
      "Step 2800/8000, Log-Likelihood: -17462344.1166\n",
      "Step 2900/8000, Log-Likelihood: -17531873.5123\n",
      "Step 3000/8000, Log-Likelihood: -17486599.4314\n",
      "Step 3100/8000, Log-Likelihood: -17476676.8002\n",
      "Step 3200/8000, Log-Likelihood: -17461912.7110\n",
      "Step 3300/8000, Log-Likelihood: -17470419.1997\n",
      "Step 3400/8000, Log-Likelihood: -17544819.0872\n",
      "Step 3500/8000, Log-Likelihood: -17533263.4960\n",
      "Step 3600/8000, Log-Likelihood: -17608654.0592\n",
      "Step 3700/8000, Log-Likelihood: -17565301.6017\n",
      "Step 3800/8000, Log-Likelihood: -17594134.0417\n",
      "Step 3900/8000, Log-Likelihood: -17606945.9230\n",
      "Step 4000/8000, Log-Likelihood: -17622343.3954\n",
      "Step 4100/8000, Log-Likelihood: -17634208.5129\n",
      "Step 4200/8000, Log-Likelihood: -17696015.6980\n",
      "Step 4300/8000, Log-Likelihood: -17714664.7106\n",
      "Step 4400/8000, Log-Likelihood: -17659205.5405\n",
      "Step 4500/8000, Log-Likelihood: -17670608.5164\n",
      "Step 4600/8000, Log-Likelihood: -17633782.7556\n",
      "Step 4700/8000, Log-Likelihood: -17648624.6657\n",
      "Step 4800/8000, Log-Likelihood: -17664752.5911\n",
      "Step 4900/8000, Log-Likelihood: -17676253.1497\n",
      "Step 5000/8000, Log-Likelihood: -17661770.2673\n",
      "Step 5100/8000, Log-Likelihood: -17663910.9408\n",
      "Step 5200/8000, Log-Likelihood: -17668764.6711\n",
      "Step 5300/8000, Log-Likelihood: -17687966.7689\n",
      "Step 5400/8000, Log-Likelihood: -17705110.5398\n",
      "Step 5500/8000, Log-Likelihood: -17702910.8747\n",
      "Step 5600/8000, Log-Likelihood: -17699379.6363\n",
      "Step 5700/8000, Log-Likelihood: -17703807.8513\n",
      "Step 5800/8000, Log-Likelihood: -17721849.4698\n",
      "Step 5900/8000, Log-Likelihood: -17736772.7345\n",
      "Step 6000/8000, Log-Likelihood: -17747313.3486\n",
      "Step 6100/8000, Log-Likelihood: -17733832.4445\n",
      "Step 6200/8000, Log-Likelihood: -17715065.6425\n",
      "Step 6300/8000, Log-Likelihood: -17726443.1078\n",
      "Step 6400/8000, Log-Likelihood: -17769610.9729\n",
      "Step 6500/8000, Log-Likelihood: -17816277.7171\n",
      "Step 6600/8000, Log-Likelihood: -17816563.1753\n",
      "Step 6700/8000, Log-Likelihood: -17806824.4913\n",
      "Step 6800/8000, Log-Likelihood: -17791336.5058\n",
      "Step 6900/8000, Log-Likelihood: -17791016.7998\n",
      "Step 7000/8000, Log-Likelihood: -17835851.8945\n",
      "Step 7100/8000, Log-Likelihood: -17848288.4110\n",
      "Step 7200/8000, Log-Likelihood: -17910337.0775\n",
      "Step 7300/8000, Log-Likelihood: -17899578.1512\n",
      "Step 7400/8000, Log-Likelihood: -17879453.4673\n",
      "Step 7500/8000, Log-Likelihood: -17862528.0982\n",
      "Step 7600/8000, Log-Likelihood: -17855647.8957\n",
      "Step 7700/8000, Log-Likelihood: -17865883.5011\n",
      "Step 7800/8000, Log-Likelihood: -17877704.0819\n",
      "Step 7900/8000, Log-Likelihood: -17932502.8861\n",
      "\n",
      "Final Validation Metrics:\n",
      "Accuracy: 0.9054\n",
      "Precision: 0.4483\n",
      "Recall: 0.2796\n",
      "F1 Score: 0.3444\n"
     ]
    },
    {
     "data": {
      "image/png": "[encoded data removed]",
      "text/plain": [
       "<Figure size 800x500 with 1 Axes>"
      ]
     },
     "metadata": {},
     "output_type": "display_data"
    }
   ],
   "source": [
    "learning_rate = 0.01\n",
    "steps = 8000\n",
    "reg_lambda = 0.001 # Regularization strength\n",
    "\n",
    "beta, log_likelihoods, metrics = logistic_regression_improvised(\n",
    "    X_train, \n",
    "    y_train, \n",
    "    X_test.toarray(), \n",
    "    y_test, \n",
    "    learning_rate=learning_rate, \n",
    "    steps=steps,\n",
    "    reg_lambda=reg_lambda\n",
    ")\n",
    "\n",
    "# Plot Log-Likelihood\n",
    "plt.figure(figsize=(8, 5))\n",
    "plt.plot(range(0, steps, 100), log_likelihoods, marker='o', linestyle='-')\n",
    "plt.xlabel(\"Steps\")\n",
    "plt.ylabel(\"Log-Likelihood\")\n",
    "plt.title(\"Log-Likelihood Over Steps (With L2 Regularization)\")\n",
    "plt.grid(True)\n",
    "plt.show()\n"
   ]
  },
  {
   "cell_type": "markdown",
   "metadata": {},
   "source": [
    "The graph shows the log-likelihood values over 8000 training steps for the logistic regression model with L2 regularization.\n",
    "\n",
    "Parameters:\n",
    "Learning Rate: 0.01\n",
    "Steps: 8000\n",
    "Regularization Strength (L2): 0.001\n",
    "\n",
    "The log-likelihood increases rapidly at the beginning, indicating significant learning, and then stabilizes as the model converges. This stability suggests that the model has learned effectively and is no longer improving significantly with additional steps."
   ]
  },
  {
   "cell_type": "markdown",
   "metadata": {},
   "source": [
    "## 10"
   ]
  },
  {
   "cell_type": "code",
   "execution_count": null,
   "metadata": {},
   "outputs": [
    {
     "name": "stdout",
     "output_type": "stream",
     "text": [
      "Predictions saved to logistic_regression_submission.csv\n"
     ]
    }
   ],
   "source": [
    "test_data = pd.read_csv(r\"C:\\Users\\nuzha\\Downloads\\SI 630\\hw1\\test.student.csv\")\n",
    "test_data['text'] = test_data['text'].fillna(\"\")\n",
    "test_data['tokenized'] = test_data['text'].apply(better_tokenize)\n",
    "\n",
    "X_test_final = create_sparse_matrix(test_data['tokenized'], vocab)\n",
    "\n",
    "X_test_final = X_test_final.toarray()  \n",
    "X_test_final = np.hstack([np.ones((X_test_final.shape[0], 1)), X_test_final])  \n",
    "\n",
    "test_predictions = predict(X_test_final, beta)\n",
    "\n",
    "submission = pd.DataFrame({\n",
    "    \"id\": test_data[\"par_id\"],  \n",
    "    \"label\": test_predictions.flatten()\n",
    "})\n",
    "\n",
    "\n",
    "submission.to_csv(\"logistic_regression_submission.csv\", index=False)\n",
    "print(\"Predictions saved to logistic_regression_submission.csv\")\n",
    "\n"
   ]
  },
  {
   "cell_type": "markdown",
   "metadata": {},
   "source": [
    "Kaggle id : Nuzhat Z.\n",
    "Accuracy: ~ 90%"
   ]
  },
  {
   "cell_type": "markdown",
   "metadata": {},
   "source": [
    "![Sample Image](1.png \"This is a local image\")\n"
   ]
  },
  {
   "cell_type": "markdown",
   "metadata": {},
   "source": []
  }
 ],
 "metadata": {
  "kernelspec": {
   "display_name": "Python 3",
   "language": "python",
   "name": "python3"
  },
  "language_info": {
   "codemirror_mode": {
    "name": "ipython",
    "version": 3
   },
   "file_extension": ".py",
   "mimetype": "text/x-python",
   "name": "python",
   "nbconvert_exporter": "python",
   "pygments_lexer": "ipython3",
   "version": "3.11.3"
  }
 },
 "nbformat": 4,
 "nbformat_minor": 2
}
